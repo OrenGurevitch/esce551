{
  "cells": [
    {
      "cell_type": "markdown",
      "metadata": {
        "id": "80MrwFShfKbn"
      },
      "source": [
        "# Mounting gdrive, and setting the paths of train data and labels, and test data"
      ]
    },
    {
      "cell_type": "code",
      "execution_count": 47,
      "metadata": {
        "colab": {
          "base_uri": "https://localhost:8080/"
        },
        "id": "qtYNHHMuUbtY",
        "outputId": "c7bcf856-c8f4-4e2d-d75e-5e87764d8b56"
      },
      "outputs": [
        {
          "name": "stdout",
          "output_type": "stream",
          "text": [
            "Drive already mounted at /content/gdrive; to attempt to forcibly remount, call drive.mount(\"/content/gdrive\", force_remount=True).\n"
          ]
        }
      ],
      "source": [
        "from google.colab import drive\n",
        "drive.mount('/content/gdrive' )\n",
        "\n",
        "training_set_pickle_path = \"/content/gdrive/MyDrive/ecse551-mp3/Train.pkl\"\n",
        "training_labels_path = \"/content/gdrive/MyDrive/ecse551-mp3/Train_labels.csv\"\n",
        "test_set_pickle_path = \"/content/gdrive/MyDrive/ecse551-mp3/Test.pkl\""
      ]
    },
    {
      "cell_type": "markdown",
      "metadata": {
        "id": "a8SfVes5Uf2w"
      },
      "source": [
        "# Import Libraries"
      ]
    },
    {
      "cell_type": "code",
      "execution_count": 1,
      "metadata": {
        "colab": {
          "base_uri": "https://localhost:8080/"
        },
        "id": "5lPl9T-rUDyQ",
        "outputId": "215f69ff-3947-41f4-de86-fb99fc238d2b"
      },
      "outputs": [
        {
          "name": "stdout",
          "output_type": "stream",
          "text": [
            "Requirement already satisfied: skorch in c:\\users\\oreng\\appdata\\local\\programs\\python\\python311\\lib\\site-packages (0.12.1)\n",
            "Requirement already satisfied: numpy>=1.13.3 in c:\\users\\oreng\\appdata\\local\\programs\\python\\python311\\lib\\site-packages (from skorch) (1.24.2)\n",
            "Requirement already satisfied: scikit-learn>=0.22.0 in c:\\users\\oreng\\appdata\\local\\programs\\python\\python311\\lib\\site-packages (from skorch) (1.2.2)\n",
            "Requirement already satisfied: scipy>=1.1.0 in c:\\users\\oreng\\appdata\\local\\programs\\python\\python311\\lib\\site-packages (from skorch) (1.10.1)\n",
            "Requirement already satisfied: tabulate>=0.7.7 in c:\\users\\oreng\\appdata\\local\\programs\\python\\python311\\lib\\site-packages (from skorch) (0.9.0)\n",
            "Requirement already satisfied: tqdm>=4.14.0 in c:\\users\\oreng\\appdata\\local\\programs\\python\\python311\\lib\\site-packages (from skorch) (4.65.0)\n",
            "Requirement already satisfied: joblib>=1.1.1 in c:\\users\\oreng\\appdata\\local\\programs\\python\\python311\\lib\\site-packages (from scikit-learn>=0.22.0->skorch) (1.2.0)\n",
            "Requirement already satisfied: threadpoolctl>=2.0.0 in c:\\users\\oreng\\appdata\\local\\programs\\python\\python311\\lib\\site-packages (from scikit-learn>=0.22.0->skorch) (3.1.0)\n",
            "Requirement already satisfied: colorama in c:\\users\\oreng\\appdata\\local\\programs\\python\\python311\\lib\\site-packages (from tqdm>=4.14.0->skorch) (0.4.6)\n",
            "Note: you may need to restart the kernel to use updated packages.\n"
          ]
        }
      ],
      "source": [
        "import pickle\n",
        "import matplotlib.pyplot as plt\n",
        "import numpy as np\n",
        "import pandas as pd\n",
        "from torchvision import transforms\n",
        "from torch.utils.data import Dataset\n",
        "from torch.utils.data import DataLoader, TensorDataset\n",
        "from PIL import Image\n",
        "import torch\n",
        "from sklearn.model_selection import train_test_split\n",
        "\n",
        "import torch.nn.functional as F\n",
        "import torch.optim as optim\n",
        "\n",
        "from torch.utils.data import Dataset\n",
        "from torch.utils.data import DataLoader\n",
        "\n",
        "# tuning learning rate\n",
        "%pip install skorch\n",
        "from skorch.callbacks import LRScheduler\n",
        "from torch.optim.lr_scheduler import ReduceLROnPlateau\n",
        "import torch.nn as nn\n"
      ]
    },
    {
      "cell_type": "markdown",
      "metadata": {
        "id": "RWCmLAsbUchu"
      },
      "source": [
        "# Check GPU"
      ]
    },
    {
      "cell_type": "code",
      "execution_count": 3,
      "metadata": {
        "colab": {
          "base_uri": "https://localhost:8080/"
        },
        "id": "CdzUrYg9UAII",
        "outputId": "c588ba9c-585d-4211-d932-b29d21588c8f"
      },
      "outputs": [
        {
          "ename": "NameError",
          "evalue": "name 'model' is not defined",
          "output_type": "error",
          "traceback": [
            "\u001b[1;31m---------------------------------------------------------------------------\u001b[0m",
            "\u001b[1;31mNameError\u001b[0m                                 Traceback (most recent call last)",
            "Cell \u001b[1;32mIn[3], line 4\u001b[0m\n\u001b[0;32m      2\u001b[0m USE_CUDA \u001b[39m=\u001b[39m \u001b[39m0\u001b[39m\n\u001b[0;32m      3\u001b[0m DEVICE \u001b[39m=\u001b[39m torch\u001b[39m.\u001b[39mdevice(\u001b[39m\"\u001b[39m\u001b[39mcuda\u001b[39m\u001b[39m\"\u001b[39m \u001b[39mif\u001b[39;00m torch\u001b[39m.\u001b[39mcuda\u001b[39m.\u001b[39mis_available() \u001b[39melse\u001b[39;00m \u001b[39m\"\u001b[39m\u001b[39mcpu\u001b[39m\u001b[39m\"\u001b[39m)\n\u001b[1;32m----> 4\u001b[0m model\u001b[39m.\u001b[39mto(DEVICE)\n\u001b[0;32m      5\u001b[0m data \u001b[39m=\u001b[39m data\u001b[39m.\u001b[39mto(DEVICE)\n\u001b[0;32m      7\u001b[0m \u001b[39mprint\u001b[39m(torch\u001b[39m.\u001b[39mcuda\u001b[39m.\u001b[39mis_available())\n",
            "\u001b[1;31mNameError\u001b[0m: name 'model' is not defined"
          ]
        }
      ],
      "source": [
        "# Check device\n",
        "USE_CUDA = 0\n",
        "DEVICE = torch.device(\"cuda\" if torch.cuda.is_available() else \"cpu\")\n",
        "model.to(DEVICE)\n",
        "data = data.to(DEVICE)\n",
        "\n",
        "print(torch.cuda.is_available())\n",
        "if torch.cuda.is_available():\n",
        "    USE_CUDA = 1\n",
        "    print(f\"Nvidia Cuda/GPU is available!\")\n",
        "\n",
        "if USE_CUDA:\n",
        "    print(torch.cuda.get_device_name(0))\n",
        "    print(torch.cuda.memory_allocated(0))\n",
        "    print(torch.cuda.memory_cached(0))\n",
        "else:\n",
        "    print(\"Running on CPU\")\n"
      ]
    },
    {
      "cell_type": "markdown",
      "metadata": {
        "id": "70aAM6E3WWEs"
      },
      "source": [
        "# Read a pickle file and display its samples"
      ]
    },
    {
      "cell_type": "code",
      "execution_count": 72,
      "metadata": {
        "colab": {
          "base_uri": "https://localhost:8080/",
          "height": 465
        },
        "id": "1_oOJdGqTmWu",
        "outputId": "cb5bfff3-97e4-4423-b28a-cad988130296"
      },
      "outputs": [
        {
          "name": "stdout",
          "output_type": "stream",
          "text": [
            "(60000, 1, 28, 28)\n",
            "7.0\n"
          ]
        },
        {
          "data": {
            "image/png": "[encoded data removed]",
            "text/plain": [
              "<Figure size 640x480 with 1 Axes>"
            ]
          },
          "metadata": {},
          "output_type": "display_data"
        }
      ],
      "source": [
        "data = pickle.load( open(training_set_pickle_path, 'rb' ), encoding='bytes')\n",
        "targets = np.genfromtxt(training_labels_path, delimiter=',', skip_header=1)[:,1]\n",
        "plt.imshow(data[1,:,:].squeeze(),cmap='gray') # display the first image, \n",
        "print(data.shape)\n",
        "print(targets[1])"
      ]
    },
    {
      "cell_type": "markdown",
      "metadata": {
        "id": "c0_ePcNSbC-k"
      },
      "source": [
        "# #**Reading the data**\n",
        "\n",
        "*img_transform, \n",
        "Class MyDataset, \n",
        "Class TestDataset*"
      ]
    },
    {
      "cell_type": "markdown",
      "metadata": {
        "id": "9nfE4YldWjSL"
      },
      "source": [
        "Transforms are common image transformations. They can be chained together using Compose.\n",
        "Here we normalize images img=(img-0.5)/0.5"
      ]
    },
    {
      "cell_type": "code",
      "execution_count": 51,
      "metadata": {
        "id": "zAsJHbblWiqC"
      },
      "outputs": [],
      "source": [
        "# Transforms are common image transformations. They can be chained together using Compose.\n",
        "# Here we normalize images img=(img-0.5)/0.5\n",
        "img_transform = transforms.Compose([\n",
        "    transforms.ToTensor(), #convert the image to a pytorch tensor\n",
        "    transforms.Normalize([0.5], [0.5]) ## normalize the image\n",
        "])"
      ]
    },
    {
      "cell_type": "code",
      "execution_count": 52,
      "metadata": {
        "id": "R8C676X3cgKP"
      },
      "outputs": [],
      "source": [
        "class MyDataset(Dataset): # preprocessing the data\n",
        "    def __init__(self, img_file, label_file, transform=None, idx = None): # idx is a binary vector #img_file is the pickle file #label_file is the csv file\n",
        "        self.data = pickle.load(open (img_file, 'rb'), encoding='bytes') # encoding='bytes' is for python 3, \n",
        "        \n",
        "        self.targets = np.genfromtxt(label_file, delimiter=',', skip_header=1)[:,1]\n",
        "        if idx is not None:\n",
        "          self.targets = self.targets[idx]\n",
        "          self.data = self.data[idx]\n",
        "        self.transform = transform\n",
        "\n",
        "    def __len__(self):\n",
        "        return len(self.targets)\n",
        "\n",
        "    def __getitem__(self, index):\n",
        "        img, target = self.data[index], int(self.targets[index])\n",
        "        img = Image.fromarray(img.squeeze().astype('uint8'), mode='L')\n",
        "\n",
        "        if self.transform is not None:\n",
        "           img = self.transform(img) # apply the transformation to the image (normalize)\n",
        "            \n",
        "        return img, target\n"
      ]
    },
    {
      "cell_type": "code",
      "execution_count": 53,
      "metadata": {
        "id": "rKTQTMTPi-Cb"
      },
      "outputs": [],
      "source": [
        "class MyTestSet(Dataset):\n",
        "\n",
        "  # constructor \n",
        "  def __init__(self, img_file, transform=None):\n",
        "    self.data = pickle.load( open(img_file, 'rb' ), encoding='bytes')\n",
        "    self.transform = transform\n",
        "\n",
        "  # returns the size of our data set\n",
        "  def __len__(self):\n",
        "    return self.data.shape[0]\n",
        "\n",
        "  # returns a specific image in the data set by index\n",
        "  def __getitem__(self, index):\n",
        "    img = self.data[index]\n",
        "    img = Image.fromarray(img.astype('uint8'), mode='L')\n",
        "    if self.transform is not None:\n",
        "      img = self.transform(img)\n",
        "    return img\n",
        "     "
      ]
    },
    {
      "cell_type": "markdown",
      "metadata": {
        "id": "WU0Mz7NPdF-n"
      },
      "source": [
        "# Load data, using the classes above"
      ]
    },
    {
      "cell_type": "code",
      "execution_count": 54,
      "metadata": {
        "colab": {
          "base_uri": "https://localhost:8080/",
          "height": 106
        },
        "id": "IAYWYspjdKNw",
        "outputId": "5fd77b92-2258-4514-bf81-ca0efb4eeba5"
      },
      "outputs": [
        {
          "data": {
            "application/vnd.google.colaboratory.intrinsic+json": {
              "type": "string"
            },
            "text/plain": [
              "'\\n# Read image data and their label into a Dataset class\\n# Random split by training =0.8 and validation = 0.2\\n\\nidx_train, idx_val = train_test_split(np.arange(60000) , test_size=0.2, random_state=42)\\n\\n# Read data from pkl and label in csv\\ndata_train = MyDataset(training_set_pickle_path, training_labels_path,transform=img_transform, idx=idx_train)\\n\\ndata_val = MyDataset(training_set_pickle_path, training_labels_path,transform=img_transform, idx=idx_val)     \\n\\n# Read Test data\\ntest_final = MyTestSet(test_set_pickle_path,transform=img_transform)\\n\\n\\n#Load data twice for training and validation ?\\ntrain_loader = DataLoader(data_train, batch_size=batch_size_train, shuffle=True)\\n\\nval_loader = DataLoader(data_val,batch_size=batch_size_train, shuffle=True)\\n\\ntest_loader = DataLoader(test_final, batch_size=batch_size_test, shuffle=False)\\n'"
            ]
          },
          "execution_count": 54,
          "metadata": {},
          "output_type": "execute_result"
        }
      ],
      "source": [
        "'''\n",
        "# Read image data and their label into a Dataset class\n",
        "# Random split by training =0.8 and validation = 0.2\n",
        "\n",
        "idx_train, idx_val = train_test_split(np.arange(60000) , test_size=0.2, random_state=42)\n",
        "\n",
        "# Read data from pkl and label in csv\n",
        "data_train = MyDataset(training_set_pickle_path, training_labels_path,transform=img_transform, idx=idx_train)\n",
        "\n",
        "data_val = MyDataset(training_set_pickle_path, training_labels_path,transform=img_transform, idx=idx_val)     \n",
        "\n",
        "# Read Test data\n",
        "test_final = MyTestSet(test_set_pickle_path,transform=img_transform)\n",
        "\n",
        "\n",
        "#Load data twice for training and validation ?\n",
        "train_loader = DataLoader(data_train, batch_size=batch_size_train, shuffle=True)\n",
        "\n",
        "val_loader = DataLoader(data_val,batch_size=batch_size_train, shuffle=True)\n",
        "\n",
        "test_loader = DataLoader(test_final, batch_size=batch_size_test, shuffle=False)\n",
        "'''"
      ]
    },
    {
      "cell_type": "markdown",
      "metadata": {
        "id": "e6iyz9zbwdnq"
      },
      "source": [
        "Another way to upload data ! from tutorial"
      ]
    },
    {
      "cell_type": "code",
      "execution_count": 54,
      "metadata": {
        "id": "V419brcmwdOA"
      },
      "outputs": [],
      "source": []
    },
    {
      "cell_type": "markdown",
      "metadata": {
        "id": "DmwHQZE2ulZq"
      },
      "source": [
        "CHECK -> Loading the data correctly? with normalization"
      ]
    },
    {
      "cell_type": "code",
      "execution_count": 55,
      "metadata": {
        "colab": {
          "base_uri": "https://localhost:8080/",
          "height": 452
        },
        "id": "566E7-QAun0f",
        "outputId": "b74e007b-978c-4fa7-8397-df9b1fffe5b4"
      },
      "outputs": [
        {
          "data": {
            "image/png": "[encoded data removed]",
            "text/plain": [
              "<Figure size 640x480 with 1 Axes>"
            ]
          },
          "metadata": {},
          "output_type": "display_data"
        }
      ],
      "source": [
        "# Using the existing MyDataset class\n",
        "dataset = MyDataset(training_set_pickle_path, training_labels_path, transform=img_transform)\n",
        "\n",
        "# Retrieve the first example (image and label)\n",
        "example_image, example_label = dataset[0]\n",
        "\n",
        "# Convert the image back to its original range (undo the normalization)\n",
        "example_image = (example_image * 0.5) + 0.5\n",
        "example_image = example_image.squeeze().numpy()\n",
        "\n",
        "# Plot the image and display the label\n",
        "plt.imshow(example_image, cmap='gray')\n",
        "plt.title(f'Label: {example_label}')\n",
        "plt.show()"
      ]
    },
    {
      "cell_type": "markdown",
      "metadata": {
        "id": "eOTMuovBvCPl"
      },
      "source": [
        "CHECK -> Loading the data correctly? without normalization"
      ]
    },
    {
      "cell_type": "markdown",
      "metadata": {
        "id": "a8OpGtxmfids"
      },
      "source": [
        "# Using DataLoader, that was imported earlier"
      ]
    },
    {
      "cell_type": "markdown",
      "metadata": {
        "id": "D8992CAyrzMk"
      },
      "source": [
        "using a code from [link text](https://nextjournal.com/gkoehler/pytorch-mnist)"
      ]
    },
    {
      "cell_type": "code",
      "execution_count": 56,
      "metadata": {
        "colab": {
          "base_uri": "https://localhost:8080/"
        },
        "id": "36-rGkwer1Bd",
        "outputId": "c1176e24-fa88-41ef-bf81-b3c97cef1caa"
      },
      "outputs": [
        {
          "data": {
            "text/plain": [
              "<torch._C.Generator at 0x7faa122152b0>"
            ]
          },
          "execution_count": 56,
          "metadata": {},
          "output_type": "execute_result"
        }
      ],
      "source": [
        "n_epochs = 3\n",
        "batch_size_train = 64\n",
        "batch_size_test = 1000\n",
        "learning_rate = 2e-3\n",
        "momentum = 0.5\n",
        "log_interval = 10\n",
        "\n",
        "random_seed = 1\n",
        "torch.backends.cudnn.enabled = False\n",
        "torch.manual_seed(random_seed)"
      ]
    },
    {
      "cell_type": "markdown",
      "metadata": {
        "id": "I8ZG3B3byvRb"
      },
      "source": [
        "**CNN**"
      ]
    },
    {
      "cell_type": "code",
      "execution_count": 57,
      "metadata": {
        "id": "g7nCd3d0yw5v"
      },
      "outputs": [],
      "source": [
        "class Net(nn.Module): ############ this is the model we are going to use\n",
        "    # This part defines the layers\n",
        "    def __init__(self):\n",
        "        super(Net, self).__init__()\n",
        "        # At first there is only 1 channel (greyscale). The next channel size will be 10. \n",
        "\n",
        "        self.conv1 = nn.Conv2d(1, 10, kernel_size=5) ################################# if we have RGB images, we should use 3 instead of 1 !!!\n",
        "\n",
        "        # Then, going from channel size (or feature size) 10 to 20. \n",
        "        self.conv2 = nn.Conv2d(10, 20, kernel_size=5)\n",
        "        # Now let us create some feed foreward layers in the end. Remember the sizes (from 320 to 50)\n",
        "        self.fc1 = nn.Linear(320, 50) ############### we want to use a fully connected layer\n",
        "        # The last layer should have an output with the same dimension as the number of classes\n",
        "        self.fc2 = nn.Linear(50, 10) ################ we want to use a fully connected layer\n",
        "\n",
        "    # And this part defines the way they are connected to each other\n",
        "    # (In reality, it is our foreward pass)\n",
        "    def forward(self, x):\n",
        "        x = F.relu(F.max_pool2d(self.conv1(x), 2))\n",
        "        x = F.relu(F.max_pool2d(self.conv2(x), 2))\n",
        "        x = x.view(-1, 320)\n",
        "        x = F.relu(self.fc1(x))\n",
        "        x = self.fc2(x)\n",
        "        return F.log_softmax(x, dim=1)\n"
      ]
    },
    {
      "cell_type": "markdown",
      "metadata": {
        "id": "d_jJE-gty3RZ"
      },
      "source": [
        "Stochastic Gradient Decent optimizer"
      ]
    },
    {
      "cell_type": "code",
      "execution_count": 58,
      "metadata": {
        "id": "s2SXFVrKy1Ge"
      },
      "outputs": [],
      "source": [
        "network = Net()\n",
        "optimizer = optim.SGD(network.parameters(), lr=0.01, momentum=0.5) # momentum is a technique to accelerate the gradient descent\n",
        "\n",
        "train_losses = []\n",
        "train_counter = []\n",
        "test_losses = []\n",
        "test_counter = [i*len(train_loader.dataset) for i in range(3)] "
      ]
    },
    {
      "cell_type": "markdown",
      "metadata": {
        "id": "iuMUOXxYy9At"
      },
      "source": [
        "**Training & Test functions**"
      ]
    },
    {
      "cell_type": "code",
      "execution_count": 59,
      "metadata": {
        "id": "GSNQhLLry_Xh"
      },
      "outputs": [],
      "source": [
        "def train(epoch): # this function is used to train the model in each epoch, we can use it in the next cell\n",
        "  network.train()\n",
        "  for batch_idx, (data, target) in enumerate(train_loader):\n",
        "    optimizer.zero_grad()\n",
        "    output = network(data)\n",
        "    loss = F.nll_loss(output, target) #negative log liklhood loss\n",
        "    loss.backward()\n",
        "    optimizer.step()\n",
        "    if batch_idx % 20 == 0:\n",
        "      print('Train Epoch: {} [{}/{} ({:.0f}%)]\\tLoss: {:.6f}'.format(\n",
        "        epoch, batch_idx * len(data), len(train_loader.dataset),\n",
        "        100. * batch_idx / len(train_loader), loss.item()))\n",
        "      train_losses.append(loss.item())\n",
        "      train_counter.append(\n",
        "        (batch_idx*64) + ((epoch-1)*len(train_loader.dataset)))\n",
        "      torch.save(network.state_dict(), '/model.pth')\n",
        "      torch.save(optimizer.state_dict(), '/optimizer.pth')\n",
        "\n",
        "def test():\n",
        "  network.eval() # this is used to tell the model that we are in the test phase, we dont want to update the weights\n",
        "  test_loss = 0\n",
        "  correct = 0\n",
        "  with torch.no_grad():\n",
        "    for data, target in val_loader:\n",
        "      output = network(data)\n",
        "      test_loss += F.nll_loss(output, target, size_average=False).item()\n",
        "      pred = output.data.max(1, keepdim=True)[1]\n",
        "      correct += pred.eq(target.data.view_as(pred)).sum() # this is used to calculate the accuracy, we compare the predicted label with the ground truth label\n",
        "  test_loss /= len(val_loader.dataset)\n",
        "  test_losses.append(test_loss)\n",
        "  print('\\nTest set: Avg. loss: {:.4f}, Accuracy: {}/{} ({:.0f}%)\\n'.format(\n",
        "    test_loss, correct, len(val_loader.dataset),\n",
        "    100. * correct / len(val_loader.dataset)))"
      ]
    },
    {
      "cell_type": "code",
      "execution_count": 60,
      "metadata": {
        "colab": {
          "base_uri": "https://localhost:8080/"
        },
        "id": "9GsXiUyXzFdN",
        "outputId": "cb868578-3f5c-4caa-fea8-b9677d16d9c4"
      },
      "outputs": [
        {
          "name": "stdout",
          "output_type": "stream",
          "text": [
            "Train Epoch: 1 [0/48000 (0%)]\tLoss: 2.301224\n",
            "Train Epoch: 1 [1280/48000 (3%)]\tLoss: 2.306891\n",
            "Train Epoch: 1 [2560/48000 (5%)]\tLoss: 2.306208\n",
            "Train Epoch: 1 [3840/48000 (8%)]\tLoss: 2.316007\n",
            "Train Epoch: 1 [5120/48000 (11%)]\tLoss: 2.298058\n",
            "Train Epoch: 1 [6400/48000 (13%)]\tLoss: 2.296128\n",
            "Train Epoch: 1 [7680/48000 (16%)]\tLoss: 2.303270\n",
            "Train Epoch: 1 [8960/48000 (19%)]\tLoss: 2.308464\n",
            "Train Epoch: 1 [10240/48000 (21%)]\tLoss: 2.308393\n",
            "Train Epoch: 1 [11520/48000 (24%)]\tLoss: 2.301598\n",
            "Train Epoch: 1 [12800/48000 (27%)]\tLoss: 2.307207\n",
            "Train Epoch: 1 [14080/48000 (29%)]\tLoss: 2.316644\n",
            "Train Epoch: 1 [15360/48000 (32%)]\tLoss: 2.317132\n",
            "Train Epoch: 1 [16640/48000 (35%)]\tLoss: 2.293702\n",
            "Train Epoch: 1 [17920/48000 (37%)]\tLoss: 2.305942\n",
            "Train Epoch: 1 [19200/48000 (40%)]\tLoss: 2.308614\n",
            "Train Epoch: 1 [20480/48000 (43%)]\tLoss: 2.300253\n",
            "Train Epoch: 1 [21760/48000 (45%)]\tLoss: 2.305111\n",
            "Train Epoch: 1 [23040/48000 (48%)]\tLoss: 2.301165\n",
            "Train Epoch: 1 [24320/48000 (51%)]\tLoss: 2.304727\n",
            "Train Epoch: 1 [25600/48000 (53%)]\tLoss: 2.306707\n",
            "Train Epoch: 1 [26880/48000 (56%)]\tLoss: 2.302840\n",
            "Train Epoch: 1 [28160/48000 (59%)]\tLoss: 2.313698\n",
            "Train Epoch: 1 [29440/48000 (61%)]\tLoss: 2.299944\n",
            "Train Epoch: 1 [30720/48000 (64%)]\tLoss: 2.303283\n",
            "Train Epoch: 1 [32000/48000 (67%)]\tLoss: 2.302058\n",
            "Train Epoch: 1 [33280/48000 (69%)]\tLoss: 2.298902\n",
            "Train Epoch: 1 [34560/48000 (72%)]\tLoss: 2.298259\n",
            "Train Epoch: 1 [35840/48000 (75%)]\tLoss: 2.302483\n",
            "Train Epoch: 1 [37120/48000 (77%)]\tLoss: 2.300911\n",
            "Train Epoch: 1 [38400/48000 (80%)]\tLoss: 2.305763\n",
            "Train Epoch: 1 [39680/48000 (83%)]\tLoss: 2.298304\n",
            "Train Epoch: 1 [40960/48000 (85%)]\tLoss: 2.300956\n",
            "Train Epoch: 1 [42240/48000 (88%)]\tLoss: 2.301978\n",
            "Train Epoch: 1 [43520/48000 (91%)]\tLoss: 2.306625\n",
            "Train Epoch: 1 [44800/48000 (93%)]\tLoss: 2.303798\n",
            "Train Epoch: 1 [46080/48000 (96%)]\tLoss: 2.303596\n",
            "Train Epoch: 1 [47360/48000 (99%)]\tLoss: 2.302609\n"
          ]
        },
        {
          "name": "stderr",
          "output_type": "stream",
          "text": [
            "/usr/local/lib/python3.9/dist-packages/torch/nn/_reduction.py:42: UserWarning: size_average and reduce args will be deprecated, please use reduction='sum' instead.\n",
            "  warnings.warn(warning.format(ret))\n"
          ]
        },
        {
          "name": "stdout",
          "output_type": "stream",
          "text": [
            "\n",
            "Test set: Avg. loss: 2.3029, Accuracy: 1155/12000 (10%)\n",
            "\n",
            "Train Epoch: 2 [0/48000 (0%)]\tLoss: 2.303169\n",
            "Train Epoch: 2 [1280/48000 (3%)]\tLoss: 2.301094\n",
            "Train Epoch: 2 [2560/48000 (5%)]\tLoss: 2.301756\n",
            "Train Epoch: 2 [3840/48000 (8%)]\tLoss: 2.303795\n",
            "Train Epoch: 2 [5120/48000 (11%)]\tLoss: 2.300735\n",
            "Train Epoch: 2 [6400/48000 (13%)]\tLoss: 2.302333\n",
            "Train Epoch: 2 [7680/48000 (16%)]\tLoss: 2.302888\n",
            "Train Epoch: 2 [8960/48000 (19%)]\tLoss: 2.302040\n",
            "Train Epoch: 2 [10240/48000 (21%)]\tLoss: 2.302561\n",
            "Train Epoch: 2 [11520/48000 (24%)]\tLoss: 2.304782\n",
            "Train Epoch: 2 [12800/48000 (27%)]\tLoss: 2.303570\n",
            "Train Epoch: 2 [14080/48000 (29%)]\tLoss: 2.302713\n",
            "Train Epoch: 2 [15360/48000 (32%)]\tLoss: 2.302062\n",
            "Train Epoch: 2 [16640/48000 (35%)]\tLoss: 2.302934\n",
            "Train Epoch: 2 [17920/48000 (37%)]\tLoss: 2.302805\n",
            "Train Epoch: 2 [19200/48000 (40%)]\tLoss: 2.302782\n",
            "Train Epoch: 2 [20480/48000 (43%)]\tLoss: 2.301021\n",
            "Train Epoch: 2 [21760/48000 (45%)]\tLoss: 2.302954\n",
            "Train Epoch: 2 [23040/48000 (48%)]\tLoss: 2.300700\n",
            "Train Epoch: 2 [24320/48000 (51%)]\tLoss: 2.301466\n",
            "Train Epoch: 2 [25600/48000 (53%)]\tLoss: 2.303791\n",
            "Train Epoch: 2 [26880/48000 (56%)]\tLoss: 2.302573\n",
            "Train Epoch: 2 [28160/48000 (59%)]\tLoss: 2.302898\n",
            "Train Epoch: 2 [29440/48000 (61%)]\tLoss: 2.302469\n",
            "Train Epoch: 2 [30720/48000 (64%)]\tLoss: 2.303948\n",
            "Train Epoch: 2 [32000/48000 (67%)]\tLoss: 2.302781\n",
            "Train Epoch: 2 [33280/48000 (69%)]\tLoss: 2.302413\n",
            "Train Epoch: 2 [34560/48000 (72%)]\tLoss: 2.301497\n",
            "Train Epoch: 2 [35840/48000 (75%)]\tLoss: 2.304767\n",
            "Train Epoch: 2 [37120/48000 (77%)]\tLoss: 2.301779\n",
            "Train Epoch: 2 [38400/48000 (80%)]\tLoss: 2.302060\n",
            "Train Epoch: 2 [39680/48000 (83%)]\tLoss: 2.303537\n",
            "Train Epoch: 2 [40960/48000 (85%)]\tLoss: 2.303387\n",
            "Train Epoch: 2 [42240/48000 (88%)]\tLoss: 2.302551\n",
            "Train Epoch: 2 [43520/48000 (91%)]\tLoss: 2.302878\n",
            "Train Epoch: 2 [44800/48000 (93%)]\tLoss: 2.302560\n",
            "Train Epoch: 2 [46080/48000 (96%)]\tLoss: 2.303174\n",
            "Train Epoch: 2 [47360/48000 (99%)]\tLoss: 2.301521\n",
            "\n",
            "Test set: Avg. loss: 2.3029, Accuracy: 1155/12000 (10%)\n",
            "\n",
            "Train Epoch: 3 [0/48000 (0%)]\tLoss: 2.301934\n",
            "Train Epoch: 3 [1280/48000 (3%)]\tLoss: 2.301419\n",
            "Train Epoch: 3 [2560/48000 (5%)]\tLoss: 2.301163\n",
            "Train Epoch: 3 [3840/48000 (8%)]\tLoss: 2.301778\n",
            "Train Epoch: 3 [5120/48000 (11%)]\tLoss: 2.303951\n",
            "Train Epoch: 3 [6400/48000 (13%)]\tLoss: 2.304618\n",
            "Train Epoch: 3 [7680/48000 (16%)]\tLoss: 2.301381\n",
            "Train Epoch: 3 [8960/48000 (19%)]\tLoss: 2.299361\n",
            "Train Epoch: 3 [10240/48000 (21%)]\tLoss: 2.302650\n",
            "Train Epoch: 3 [11520/48000 (24%)]\tLoss: 2.299737\n",
            "Train Epoch: 3 [12800/48000 (27%)]\tLoss: 2.307250\n",
            "Train Epoch: 3 [14080/48000 (29%)]\tLoss: 2.302271\n",
            "Train Epoch: 3 [15360/48000 (32%)]\tLoss: 2.304806\n",
            "Train Epoch: 3 [16640/48000 (35%)]\tLoss: 2.306639\n",
            "Train Epoch: 3 [17920/48000 (37%)]\tLoss: 2.302647\n",
            "Train Epoch: 3 [19200/48000 (40%)]\tLoss: 2.303538\n",
            "Train Epoch: 3 [20480/48000 (43%)]\tLoss: 2.301968\n",
            "Train Epoch: 3 [21760/48000 (45%)]\tLoss: 2.303656\n",
            "Train Epoch: 3 [23040/48000 (48%)]\tLoss: 2.301871\n",
            "Train Epoch: 3 [24320/48000 (51%)]\tLoss: 2.303207\n",
            "Train Epoch: 3 [25600/48000 (53%)]\tLoss: 2.302141\n",
            "Train Epoch: 3 [26880/48000 (56%)]\tLoss: 2.302404\n",
            "Train Epoch: 3 [28160/48000 (59%)]\tLoss: 2.302342\n",
            "Train Epoch: 3 [29440/48000 (61%)]\tLoss: 2.304911\n",
            "Train Epoch: 3 [30720/48000 (64%)]\tLoss: 2.301474\n",
            "Train Epoch: 3 [32000/48000 (67%)]\tLoss: 2.302723\n",
            "Train Epoch: 3 [33280/48000 (69%)]\tLoss: 2.304578\n",
            "Train Epoch: 3 [34560/48000 (72%)]\tLoss: 2.304383\n",
            "Train Epoch: 3 [35840/48000 (75%)]\tLoss: 2.304836\n",
            "Train Epoch: 3 [37120/48000 (77%)]\tLoss: 2.301266\n",
            "Train Epoch: 3 [38400/48000 (80%)]\tLoss: 2.302661\n",
            "Train Epoch: 3 [39680/48000 (83%)]\tLoss: 2.302656\n",
            "Train Epoch: 3 [40960/48000 (85%)]\tLoss: 2.303986\n",
            "Train Epoch: 3 [42240/48000 (88%)]\tLoss: 2.301653\n",
            "Train Epoch: 3 [43520/48000 (91%)]\tLoss: 2.302180\n",
            "Train Epoch: 3 [44800/48000 (93%)]\tLoss: 2.302156\n",
            "Train Epoch: 3 [46080/48000 (96%)]\tLoss: 2.303059\n",
            "Train Epoch: 3 [47360/48000 (99%)]\tLoss: 2.300438\n",
            "\n",
            "Test set: Avg. loss: 2.3029, Accuracy: 1167/12000 (10%)\n",
            "\n"
          ]
        }
      ],
      "source": [
        "for epoch in range(1, 4):\n",
        "  train(epoch) # we can use the train function we defined above\n",
        "  test() # we can use the test function we defined above"
      ]
    },
    {
      "cell_type": "markdown",
      "metadata": {
        "id": "M1G4Q54iSawD"
      },
      "source": [
        "**Loss Graph**"
      ]
    },
    {
      "cell_type": "code",
      "execution_count": 61,
      "metadata": {
        "colab": {
          "base_uri": "https://localhost:8080/",
          "height": 467
        },
        "id": "OjPSHnHQSdR3",
        "outputId": "5be06c76-f430-4160-e63b-d792d4677f09"
      },
      "outputs": [
        {
          "data": {
            "text/plain": [
              "Text(0, 0.5, 'negative log likelihood loss')"
            ]
          },
          "execution_count": 61,
          "metadata": {},
          "output_type": "execute_result"
        },
        {
          "data": {
            "image/png": "[encoded data removed]",
            "text/plain": [
              "<Figure size 640x480 with 1 Axes>"
            ]
          },
          "metadata": {},
          "output_type": "display_data"
        }
      ],
      "source": [
        "fig = plt.figure()\n",
        "plt.plot(train_counter, train_losses, color='blue') # the loss of the training set, decreasing \n",
        "plt.legend(['Train Loss'], loc='upper right')\n",
        "plt.xlabel('number of training examples seen')\n",
        "plt.ylabel('negative log likelihood loss')\n",
        "# fig"
      ]
    },
    {
      "cell_type": "markdown",
      "metadata": {
        "id": "pgOq2utj0Z49"
      },
      "source": [
        "TRY #2"
      ]
    },
    {
      "cell_type": "code",
      "execution_count": 68,
      "metadata": {
        "colab": {
          "base_uri": "https://localhost:8080/",
          "height": 772
        },
        "id": "ZzdHYvVd33i9",
        "outputId": "13d8b535-f0ae-4a27-f0fb-65c12a024416"
      },
      "outputs": [
        {
          "data": {
            "image/png": "[encoded data removed]",
            "text/plain": [
              "<Figure size 640x480 with 1 Axes>"
            ]
          },
          "metadata": {},
          "output_type": "display_data"
        },
        {
          "data": {
            "image/png": "[encoded data removed]",
            "text/plain": [
              "<Figure size 640x480 with 1 Axes>"
            ]
          },
          "metadata": {},
          "output_type": "display_data"
        },
        {
          "data": {
            "image/png": "[encoded data removed]",
            "text/plain": [
              "<Figure size 640x480 with 1 Axes>"
            ]
          },
          "metadata": {},
          "output_type": "display_data"
        },
        {
          "data": {
            "image/png": "[encoded data removed]",
            "text/plain": [
              "<Figure size 640x480 with 1 Axes>"
            ]
          },
          "metadata": {},
          "output_type": "display_data"
        },
        {
          "data": {
            "image/png": "[encoded data removed]",
            "text/plain": [
              "<Figure size 640x480 with 1 Axes>"
            ]
          },
          "metadata": {},
          "output_type": "display_data"
        }
      ],
      "source": [
        "from torch.utils.data import random_split\n",
        "\n",
        "# Read image data and their label into a Dataset \n",
        "data = pickle.load( open(training_set_pickle_path, 'rb' ))\n",
        "targets = np.genfromtxt(training_labels_path, delimiter=',', skip_header=1)[:,1]\n",
        "\n",
        "data = torch.from_numpy(data)\n",
        "targets = torch.from_numpy(targets)\n",
        "\n",
        "dataset = TensorDataset(data,targets)\n",
        "\n",
        "batch_size = 256 #feel free to change it\n",
        "dataloader = DataLoader(dataset,batch_size=batch_size, shuffle=True)\n",
        "'''\n",
        "############ READ FIRST PICTURE ###################\n",
        "# Read a batch of data and their labels and display them\n",
        "\n",
        "[imgs, labels] = (next(iter(dataloader)))\n",
        "imgs = np.squeeze(imgs)\n",
        "plt.imshow(imgs[12].cpu().numpy(),cmap='gray',interpolation=\"bicubic\") #.transpose()\n",
        "\n",
        "# Here is a piece of code that reads data in batch.\n",
        "# In each epoch all samples are read in batches using dataloader\n",
        "\n",
        "# Retrieve the first example (image and label)\n",
        "example_image, example_label = dataset[0]\n",
        "\n",
        "# Convert the image back to its original range (undo the normalization)\n",
        "example_image = (example_image * 0.5) + 0.5\n",
        "example_image = example_image.squeeze().numpy()\n",
        "\n",
        "# Plot the image and display the label\n",
        "plt.imshow(example_image, cmap='gray')\n",
        "plt.title(f'Label: {example_label}')\n",
        "plt.show()\n",
        "'''\n",
        "'''\n",
        "# Read a batch of data and their labels and display them\n",
        "[imgs, labels] = (next(iter(dataloader)))\n",
        "imgs = np.squeeze(imgs)\n",
        "\n",
        "# Display two images and their titles\n",
        "num_images_to_display = 5\n",
        "\n",
        "for i in range(num_images_to_display):\n",
        "    img = imgs[i].cpu().numpy()\n",
        "    label = labels[i].item()\n",
        "\n",
        "    # Convert the image back to its original range (undo the normalization)\n",
        "    img = (img * 0.5) + 0.5\n",
        "\n",
        "    plt.subplot(1, num_images_to_display, i + 1)\n",
        "    plt.imshow(img, cmap='gray')\n",
        "    plt.title(f'Label: {example_label}')\n",
        "    plt.show()\n",
        "'''"
      ]
    },
    {
      "cell_type": "code",
      "execution_count": 65,
      "metadata": {
        "colab": {
          "base_uri": "https://localhost:8080/",
          "height": 457
        },
        "id": "ELv892C60Yrm",
        "outputId": "3fd7e566-a969-4fb1-f140-fb8ccde5f68b"
      },
      "outputs": [
        {
          "ename": "TypeError",
          "evalue": "ignored",
          "output_type": "error",
          "traceback": [
            "\u001b[0;31m---------------------------------------------------------------------------\u001b[0m",
            "\u001b[0;31mTypeError\u001b[0m                                 Traceback (most recent call last)",
            "\u001b[0;32m<ipython-input-65-dc4eb49d4235>\u001b[0m in \u001b[0;36m<cell line: 19>\u001b[0;34m()\u001b[0m\n\u001b[1;32m     23\u001b[0m         \u001b[0;31m# Add your training code here\u001b[0m\u001b[0;34m\u001b[0m\u001b[0;34m\u001b[0m\u001b[0m\n\u001b[1;32m     24\u001b[0m         \u001b[0;31m# Forward pass\u001b[0m\u001b[0;34m\u001b[0m\u001b[0;34m\u001b[0m\u001b[0m\n\u001b[0;32m---> 25\u001b[0;31m         \u001b[0moutputs\u001b[0m \u001b[0;34m=\u001b[0m \u001b[0mnetwork\u001b[0m\u001b[0;34m(\u001b[0m\u001b[0mdata\u001b[0m\u001b[0;34m)\u001b[0m\u001b[0;34m\u001b[0m\u001b[0;34m\u001b[0m\u001b[0m\n\u001b[0m\u001b[1;32m     26\u001b[0m         \u001b[0mloss\u001b[0m \u001b[0;34m=\u001b[0m \u001b[0mcriterion\u001b[0m\u001b[0;34m(\u001b[0m\u001b[0moutputs\u001b[0m\u001b[0;34m,\u001b[0m \u001b[0mlabels\u001b[0m\u001b[0;34m)\u001b[0m\u001b[0;34m\u001b[0m\u001b[0;34m\u001b[0m\u001b[0m\n\u001b[1;32m     27\u001b[0m         \u001b[0;31m# Backward and optimize\u001b[0m\u001b[0;34m\u001b[0m\u001b[0;34m\u001b[0m\u001b[0m\n",
            "\u001b[0;32m/usr/local/lib/python3.9/dist-packages/torch/nn/modules/module.py\u001b[0m in \u001b[0;36m_call_impl\u001b[0;34m(self, *input, **kwargs)\u001b[0m\n\u001b[1;32m   1192\u001b[0m         if not (self._backward_hooks or self._forward_hooks or self._forward_pre_hooks or _global_backward_hooks\n\u001b[1;32m   1193\u001b[0m                 or _global_forward_hooks or _global_forward_pre_hooks):\n\u001b[0;32m-> 1194\u001b[0;31m             \u001b[0;32mreturn\u001b[0m \u001b[0mforward_call\u001b[0m\u001b[0;34m(\u001b[0m\u001b[0;34m*\u001b[0m\u001b[0minput\u001b[0m\u001b[0;34m,\u001b[0m \u001b[0;34m**\u001b[0m\u001b[0mkwargs\u001b[0m\u001b[0;34m)\u001b[0m\u001b[0;34m\u001b[0m\u001b[0;34m\u001b[0m\u001b[0m\n\u001b[0m\u001b[1;32m   1195\u001b[0m         \u001b[0;31m# Do not call functions when jit is used\u001b[0m\u001b[0;34m\u001b[0m\u001b[0;34m\u001b[0m\u001b[0m\n\u001b[1;32m   1196\u001b[0m         \u001b[0mfull_backward_hooks\u001b[0m\u001b[0;34m,\u001b[0m \u001b[0mnon_full_backward_hooks\u001b[0m \u001b[0;34m=\u001b[0m \u001b[0;34m[\u001b[0m\u001b[0;34m]\u001b[0m\u001b[0;34m,\u001b[0m \u001b[0;34m[\u001b[0m\u001b[0;34m]\u001b[0m\u001b[0;34m\u001b[0m\u001b[0;34m\u001b[0m\u001b[0m\n",
            "\u001b[0;32m<ipython-input-57-2dffa7f1d058>\u001b[0m in \u001b[0;36mforward\u001b[0;34m(self, x)\u001b[0m\n\u001b[1;32m     17\u001b[0m     \u001b[0;31m# (In reality, it is our foreward pass)\u001b[0m\u001b[0;34m\u001b[0m\u001b[0;34m\u001b[0m\u001b[0m\n\u001b[1;32m     18\u001b[0m     \u001b[0;32mdef\u001b[0m \u001b[0mforward\u001b[0m\u001b[0;34m(\u001b[0m\u001b[0mself\u001b[0m\u001b[0;34m,\u001b[0m \u001b[0mx\u001b[0m\u001b[0;34m)\u001b[0m\u001b[0;34m:\u001b[0m\u001b[0;34m\u001b[0m\u001b[0;34m\u001b[0m\u001b[0m\n\u001b[0;32m---> 19\u001b[0;31m         \u001b[0mx\u001b[0m \u001b[0;34m=\u001b[0m \u001b[0mF\u001b[0m\u001b[0;34m.\u001b[0m\u001b[0mrelu\u001b[0m\u001b[0;34m(\u001b[0m\u001b[0mF\u001b[0m\u001b[0;34m.\u001b[0m\u001b[0mmax_pool2d\u001b[0m\u001b[0;34m(\u001b[0m\u001b[0mself\u001b[0m\u001b[0;34m.\u001b[0m\u001b[0mconv1\u001b[0m\u001b[0;34m(\u001b[0m\u001b[0mx\u001b[0m\u001b[0;34m)\u001b[0m\u001b[0;34m,\u001b[0m \u001b[0;36m2\u001b[0m\u001b[0;34m)\u001b[0m\u001b[0;34m)\u001b[0m\u001b[0;34m\u001b[0m\u001b[0;34m\u001b[0m\u001b[0m\n\u001b[0m\u001b[1;32m     20\u001b[0m         \u001b[0mx\u001b[0m \u001b[0;34m=\u001b[0m \u001b[0mF\u001b[0m\u001b[0;34m.\u001b[0m\u001b[0mrelu\u001b[0m\u001b[0;34m(\u001b[0m\u001b[0mF\u001b[0m\u001b[0;34m.\u001b[0m\u001b[0mmax_pool2d\u001b[0m\u001b[0;34m(\u001b[0m\u001b[0mself\u001b[0m\u001b[0;34m.\u001b[0m\u001b[0mconv2\u001b[0m\u001b[0;34m(\u001b[0m\u001b[0mx\u001b[0m\u001b[0;34m)\u001b[0m\u001b[0;34m,\u001b[0m \u001b[0;36m2\u001b[0m\u001b[0;34m)\u001b[0m\u001b[0;34m)\u001b[0m\u001b[0;34m\u001b[0m\u001b[0;34m\u001b[0m\u001b[0m\n\u001b[1;32m     21\u001b[0m         \u001b[0mx\u001b[0m \u001b[0;34m=\u001b[0m \u001b[0mx\u001b[0m\u001b[0;34m.\u001b[0m\u001b[0mview\u001b[0m\u001b[0;34m(\u001b[0m\u001b[0;34m-\u001b[0m\u001b[0;36m1\u001b[0m\u001b[0;34m,\u001b[0m \u001b[0;36m320\u001b[0m\u001b[0;34m)\u001b[0m\u001b[0;34m\u001b[0m\u001b[0;34m\u001b[0m\u001b[0m\n",
            "\u001b[0;32m/usr/local/lib/python3.9/dist-packages/torch/nn/modules/module.py\u001b[0m in \u001b[0;36m_call_impl\u001b[0;34m(self, *input, **kwargs)\u001b[0m\n\u001b[1;32m   1192\u001b[0m         if not (self._backward_hooks or self._forward_hooks or self._forward_pre_hooks or _global_backward_hooks\n\u001b[1;32m   1193\u001b[0m                 or _global_forward_hooks or _global_forward_pre_hooks):\n\u001b[0;32m-> 1194\u001b[0;31m             \u001b[0;32mreturn\u001b[0m \u001b[0mforward_call\u001b[0m\u001b[0;34m(\u001b[0m\u001b[0;34m*\u001b[0m\u001b[0minput\u001b[0m\u001b[0;34m,\u001b[0m \u001b[0;34m**\u001b[0m\u001b[0mkwargs\u001b[0m\u001b[0;34m)\u001b[0m\u001b[0;34m\u001b[0m\u001b[0;34m\u001b[0m\u001b[0m\n\u001b[0m\u001b[1;32m   1195\u001b[0m         \u001b[0;31m# Do not call functions when jit is used\u001b[0m\u001b[0;34m\u001b[0m\u001b[0;34m\u001b[0m\u001b[0m\n\u001b[1;32m   1196\u001b[0m         \u001b[0mfull_backward_hooks\u001b[0m\u001b[0;34m,\u001b[0m \u001b[0mnon_full_backward_hooks\u001b[0m \u001b[0;34m=\u001b[0m \u001b[0;34m[\u001b[0m\u001b[0;34m]\u001b[0m\u001b[0;34m,\u001b[0m \u001b[0;34m[\u001b[0m\u001b[0;34m]\u001b[0m\u001b[0;34m\u001b[0m\u001b[0;34m\u001b[0m\u001b[0m\n",
            "\u001b[0;32m/usr/local/lib/python3.9/dist-packages/torch/nn/modules/conv.py\u001b[0m in \u001b[0;36mforward\u001b[0;34m(self, input)\u001b[0m\n\u001b[1;32m    461\u001b[0m \u001b[0;34m\u001b[0m\u001b[0m\n\u001b[1;32m    462\u001b[0m     \u001b[0;32mdef\u001b[0m \u001b[0mforward\u001b[0m\u001b[0;34m(\u001b[0m\u001b[0mself\u001b[0m\u001b[0;34m,\u001b[0m \u001b[0minput\u001b[0m\u001b[0;34m:\u001b[0m \u001b[0mTensor\u001b[0m\u001b[0;34m)\u001b[0m \u001b[0;34m->\u001b[0m \u001b[0mTensor\u001b[0m\u001b[0;34m:\u001b[0m\u001b[0;34m\u001b[0m\u001b[0;34m\u001b[0m\u001b[0m\n\u001b[0;32m--> 463\u001b[0;31m         \u001b[0;32mreturn\u001b[0m \u001b[0mself\u001b[0m\u001b[0;34m.\u001b[0m\u001b[0m_conv_forward\u001b[0m\u001b[0;34m(\u001b[0m\u001b[0minput\u001b[0m\u001b[0;34m,\u001b[0m \u001b[0mself\u001b[0m\u001b[0;34m.\u001b[0m\u001b[0mweight\u001b[0m\u001b[0;34m,\u001b[0m \u001b[0mself\u001b[0m\u001b[0;34m.\u001b[0m\u001b[0mbias\u001b[0m\u001b[0;34m)\u001b[0m\u001b[0;34m\u001b[0m\u001b[0;34m\u001b[0m\u001b[0m\n\u001b[0m\u001b[1;32m    464\u001b[0m \u001b[0;34m\u001b[0m\u001b[0m\n\u001b[1;32m    465\u001b[0m \u001b[0;32mclass\u001b[0m \u001b[0mConv3d\u001b[0m\u001b[0;34m(\u001b[0m\u001b[0m_ConvNd\u001b[0m\u001b[0;34m)\u001b[0m\u001b[0;34m:\u001b[0m\u001b[0;34m\u001b[0m\u001b[0;34m\u001b[0m\u001b[0m\n",
            "\u001b[0;32m/usr/local/lib/python3.9/dist-packages/torch/nn/modules/conv.py\u001b[0m in \u001b[0;36m_conv_forward\u001b[0;34m(self, input, weight, bias)\u001b[0m\n\u001b[1;32m    457\u001b[0m                             \u001b[0mweight\u001b[0m\u001b[0;34m,\u001b[0m \u001b[0mbias\u001b[0m\u001b[0;34m,\u001b[0m \u001b[0mself\u001b[0m\u001b[0;34m.\u001b[0m\u001b[0mstride\u001b[0m\u001b[0;34m,\u001b[0m\u001b[0;34m\u001b[0m\u001b[0;34m\u001b[0m\u001b[0m\n\u001b[1;32m    458\u001b[0m                             _pair(0), self.dilation, self.groups)\n\u001b[0;32m--> 459\u001b[0;31m         return F.conv2d(input, weight, bias, self.stride,\n\u001b[0m\u001b[1;32m    460\u001b[0m                         self.padding, self.dilation, self.groups)\n\u001b[1;32m    461\u001b[0m \u001b[0;34m\u001b[0m\u001b[0m\n",
            "\u001b[0;31mTypeError\u001b[0m: conv2d() received an invalid combination of arguments - got (list, Parameter, Parameter, tuple, tuple, tuple, int), but expected one of:\n * (Tensor input, Tensor weight, Tensor bias, tuple of ints stride, tuple of ints padding, tuple of ints dilation, int groups)\n      didn't match because some of the arguments have invalid types: (!list!, !Parameter!, !Parameter!, !tuple!, !tuple!, !tuple!, int)\n * (Tensor input, Tensor weight, Tensor bias, tuple of ints stride, str padding, tuple of ints dilation, int groups)\n      didn't match because some of the arguments have invalid types: (!list!, !Parameter!, !Parameter!, !tuple!, !tuple!, !tuple!, int)\n"
          ]
        }
      ],
      "source": [
        "# Define the split ratio, e.g., 80% for training and 20% for validation\n",
        "train_ratio = 0.8\n",
        "validation_ratio = 1 - train_ratio\n",
        "\n",
        "# Calculate the number of samples for each set\n",
        "total_samples = len(dataset)\n",
        "train_samples = int(train_ratio * total_samples)\n",
        "validation_samples = total_samples - train_samples\n",
        "\n",
        "# Split the dataset into training and validation sets\n",
        "train_dataset, validation_dataset = random_split(dataset, [train_samples, validation_samples])\n",
        "\n",
        "# Create DataLoaders for training and validation sets\n",
        "train_dataloader = DataLoader(train_dataset, batch_size=batch_size, shuffle=True)\n",
        "validation_dataloader = DataLoader(validation_dataset, batch_size=batch_size, shuffle=False)\n",
        "\n",
        "# Process the data using the DataLoader\n",
        "num_epochs = 2\n",
        "for epoch in range(num_epochs):\n",
        "    # Training loop\n",
        "    for data in train_dataloader:\n",
        "        imgs, labels = data\n",
        "        # Add your training code here\n",
        "        # Forward pass\n",
        "        outputs = network(data)\n",
        "        loss = criterion(outputs, labels)\n",
        "        # Backward and optimize\n",
        "        optimizer.zero_grad()\n",
        "        loss.backward()\n",
        "        optimizer.step()\n",
        "\n",
        "    # Validation loop\n",
        "    with torch.no_grad():\n",
        "        for data in validation_dataloader:\n",
        "            imgs, labels = data\n",
        "            # Add your validation code here\n",
        "            # Forward pass\n",
        "            outputs = network(data)\n",
        "            loss = criterion(outputs, labels)\n",
        "            # Compute accuracy\n",
        "            _, predicted = torch.max(outputs.data, 1)\n",
        "            total += labels.size(0)\n",
        "            correct += (predicted == labels).sum().item()\n",
        "\n",
        "    # Print statistics\n",
        "    print('Epoch [{}/{}], Loss: {:.4f}, Accuracy: {:.2f}%'\n",
        "          .format(epoch+1, num_epochs, loss.item(), 100 * correct / total))\n"
      ]
    }
  ],
  "metadata": {
    "accelerator": "GPU",
    "colab": {
      "provenance": []
    },
    "gpuClass": "standard",
    "kernelspec": {
      "display_name": "Python 3",
      "name": "python3"
    },
    "language_info": {
      "codemirror_mode": {
        "name": "ipython",
        "version": 3
      },
      "file_extension": ".py",
      "mimetype": "text/x-python",
      "name": "python",
      "nbconvert_exporter": "python",
      "pygments_lexer": "ipython3",
      "version": "3.11.2"
    }
  },
  "nbformat": 4,
  "nbformat_minor": 0
}
